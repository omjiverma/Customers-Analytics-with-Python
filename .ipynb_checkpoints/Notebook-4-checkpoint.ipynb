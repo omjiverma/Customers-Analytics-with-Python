{
 "cells": [
  {
   "cell_type": "markdown",
   "id": "07bbac0b",
   "metadata": {},
   "source": [
    "# Brand Choice and Promotion Modeling"
   ]
  },
  {
   "cell_type": "markdown",
   "id": "336bbbb1",
   "metadata": {},
   "source": [
    "## Packages"
   ]
  },
  {
   "cell_type": "code",
   "execution_count": 1,
   "id": "fd420159",
   "metadata": {},
   "outputs": [],
   "source": [
    "import pandas as pd\n",
    "import numpy as np\n",
    "import seaborn as sns\n",
    "import matplotlib.pyplot as plt\n",
    "%matplotlib inline\n",
    "custom_params = {\"axes.spines.right\": False, \"axes.spines.top\": False}\n",
    "sns.set_theme(style=\"darkgrid\", rc=custom_params,palette='Set1')\n",
    "from sklearn.linear_model import LogisticRegression \n",
    "import warnings\n",
    "warnings.filterwarnings('ignore')"
   ]
  },
  {
   "cell_type": "markdown",
   "id": "61565df3",
   "metadata": {},
   "source": [
    "## Load Data"
   ]
  },
  {
   "cell_type": "code",
   "execution_count": 2,
   "id": "a52a1142",
   "metadata": {},
   "outputs": [],
   "source": [
    "df_purchase = pd.read_csv('purchase_segmented.csv',index_col=0)"
   ]
  },
  {
   "cell_type": "code",
   "execution_count": 3,
   "id": "55c355a0",
   "metadata": {},
   "outputs": [
    {
     "data": {
      "text/html": [
       "<div>\n",
       "<style scoped>\n",
       "    .dataframe tbody tr th:only-of-type {\n",
       "        vertical-align: middle;\n",
       "    }\n",
       "\n",
       "    .dataframe tbody tr th {\n",
       "        vertical-align: top;\n",
       "    }\n",
       "\n",
       "    .dataframe thead th {\n",
       "        text-align: right;\n",
       "    }\n",
       "</style>\n",
       "<table border=\"1\" class=\"dataframe\">\n",
       "  <thead>\n",
       "    <tr style=\"text-align: right;\">\n",
       "      <th></th>\n",
       "      <th>Day</th>\n",
       "      <th>Incidence</th>\n",
       "      <th>Brand</th>\n",
       "      <th>Quantity</th>\n",
       "      <th>Last_Inc_Brand</th>\n",
       "      <th>Last_Inc_Quantity</th>\n",
       "      <th>Price_1</th>\n",
       "      <th>Price_2</th>\n",
       "      <th>Price_3</th>\n",
       "      <th>Price_4</th>\n",
       "      <th>...</th>\n",
       "      <th>Promotion_5</th>\n",
       "      <th>Sex</th>\n",
       "      <th>Marital status</th>\n",
       "      <th>Age</th>\n",
       "      <th>Education</th>\n",
       "      <th>Income</th>\n",
       "      <th>Occupation</th>\n",
       "      <th>Settlement size</th>\n",
       "      <th>Segment</th>\n",
       "      <th>Segment Names</th>\n",
       "    </tr>\n",
       "    <tr>\n",
       "      <th>ID</th>\n",
       "      <th></th>\n",
       "      <th></th>\n",
       "      <th></th>\n",
       "      <th></th>\n",
       "      <th></th>\n",
       "      <th></th>\n",
       "      <th></th>\n",
       "      <th></th>\n",
       "      <th></th>\n",
       "      <th></th>\n",
       "      <th></th>\n",
       "      <th></th>\n",
       "      <th></th>\n",
       "      <th></th>\n",
       "      <th></th>\n",
       "      <th></th>\n",
       "      <th></th>\n",
       "      <th></th>\n",
       "      <th></th>\n",
       "      <th></th>\n",
       "      <th></th>\n",
       "    </tr>\n",
       "  </thead>\n",
       "  <tbody>\n",
       "    <tr>\n",
       "      <th>200000001</th>\n",
       "      <td>1</td>\n",
       "      <td>0</td>\n",
       "      <td>0</td>\n",
       "      <td>0</td>\n",
       "      <td>0</td>\n",
       "      <td>0</td>\n",
       "      <td>1.59</td>\n",
       "      <td>1.87</td>\n",
       "      <td>2.01</td>\n",
       "      <td>2.09</td>\n",
       "      <td>...</td>\n",
       "      <td>0</td>\n",
       "      <td>0</td>\n",
       "      <td>0</td>\n",
       "      <td>47</td>\n",
       "      <td>1</td>\n",
       "      <td>110866</td>\n",
       "      <td>1</td>\n",
       "      <td>0</td>\n",
       "      <td>2</td>\n",
       "      <td>fewer opportunities</td>\n",
       "    </tr>\n",
       "    <tr>\n",
       "      <th>200000001</th>\n",
       "      <td>11</td>\n",
       "      <td>0</td>\n",
       "      <td>0</td>\n",
       "      <td>0</td>\n",
       "      <td>0</td>\n",
       "      <td>0</td>\n",
       "      <td>1.51</td>\n",
       "      <td>1.89</td>\n",
       "      <td>1.99</td>\n",
       "      <td>2.09</td>\n",
       "      <td>...</td>\n",
       "      <td>0</td>\n",
       "      <td>0</td>\n",
       "      <td>0</td>\n",
       "      <td>47</td>\n",
       "      <td>1</td>\n",
       "      <td>110866</td>\n",
       "      <td>1</td>\n",
       "      <td>0</td>\n",
       "      <td>2</td>\n",
       "      <td>fewer opportunities</td>\n",
       "    </tr>\n",
       "    <tr>\n",
       "      <th>200000001</th>\n",
       "      <td>12</td>\n",
       "      <td>0</td>\n",
       "      <td>0</td>\n",
       "      <td>0</td>\n",
       "      <td>0</td>\n",
       "      <td>0</td>\n",
       "      <td>1.51</td>\n",
       "      <td>1.89</td>\n",
       "      <td>1.99</td>\n",
       "      <td>2.09</td>\n",
       "      <td>...</td>\n",
       "      <td>0</td>\n",
       "      <td>0</td>\n",
       "      <td>0</td>\n",
       "      <td>47</td>\n",
       "      <td>1</td>\n",
       "      <td>110866</td>\n",
       "      <td>1</td>\n",
       "      <td>0</td>\n",
       "      <td>2</td>\n",
       "      <td>fewer opportunities</td>\n",
       "    </tr>\n",
       "    <tr>\n",
       "      <th>200000001</th>\n",
       "      <td>16</td>\n",
       "      <td>0</td>\n",
       "      <td>0</td>\n",
       "      <td>0</td>\n",
       "      <td>0</td>\n",
       "      <td>0</td>\n",
       "      <td>1.52</td>\n",
       "      <td>1.89</td>\n",
       "      <td>1.98</td>\n",
       "      <td>2.09</td>\n",
       "      <td>...</td>\n",
       "      <td>0</td>\n",
       "      <td>0</td>\n",
       "      <td>0</td>\n",
       "      <td>47</td>\n",
       "      <td>1</td>\n",
       "      <td>110866</td>\n",
       "      <td>1</td>\n",
       "      <td>0</td>\n",
       "      <td>2</td>\n",
       "      <td>fewer opportunities</td>\n",
       "    </tr>\n",
       "    <tr>\n",
       "      <th>200000001</th>\n",
       "      <td>18</td>\n",
       "      <td>0</td>\n",
       "      <td>0</td>\n",
       "      <td>0</td>\n",
       "      <td>0</td>\n",
       "      <td>0</td>\n",
       "      <td>1.52</td>\n",
       "      <td>1.89</td>\n",
       "      <td>1.99</td>\n",
       "      <td>2.09</td>\n",
       "      <td>...</td>\n",
       "      <td>0</td>\n",
       "      <td>0</td>\n",
       "      <td>0</td>\n",
       "      <td>47</td>\n",
       "      <td>1</td>\n",
       "      <td>110866</td>\n",
       "      <td>1</td>\n",
       "      <td>0</td>\n",
       "      <td>2</td>\n",
       "      <td>fewer opportunities</td>\n",
       "    </tr>\n",
       "  </tbody>\n",
       "</table>\n",
       "<p>5 rows × 25 columns</p>\n",
       "</div>"
      ],
      "text/plain": [
       "           Day  Incidence  Brand  Quantity  Last_Inc_Brand  Last_Inc_Quantity  \\\n",
       "ID                                                                              \n",
       "200000001    1          0      0         0               0                  0   \n",
       "200000001   11          0      0         0               0                  0   \n",
       "200000001   12          0      0         0               0                  0   \n",
       "200000001   16          0      0         0               0                  0   \n",
       "200000001   18          0      0         0               0                  0   \n",
       "\n",
       "           Price_1  Price_2  Price_3  Price_4  ...  Promotion_5  Sex  \\\n",
       "ID                                             ...                     \n",
       "200000001     1.59     1.87     2.01     2.09  ...            0    0   \n",
       "200000001     1.51     1.89     1.99     2.09  ...            0    0   \n",
       "200000001     1.51     1.89     1.99     2.09  ...            0    0   \n",
       "200000001     1.52     1.89     1.98     2.09  ...            0    0   \n",
       "200000001     1.52     1.89     1.99     2.09  ...            0    0   \n",
       "\n",
       "           Marital status  Age  Education  Income  Occupation  \\\n",
       "ID                                                              \n",
       "200000001               0   47          1  110866           1   \n",
       "200000001               0   47          1  110866           1   \n",
       "200000001               0   47          1  110866           1   \n",
       "200000001               0   47          1  110866           1   \n",
       "200000001               0   47          1  110866           1   \n",
       "\n",
       "           Settlement size  Segment        Segment Names  \n",
       "ID                                                        \n",
       "200000001                0        2  fewer opportunities  \n",
       "200000001                0        2  fewer opportunities  \n",
       "200000001                0        2  fewer opportunities  \n",
       "200000001                0        2  fewer opportunities  \n",
       "200000001                0        2  fewer opportunities  \n",
       "\n",
       "[5 rows x 25 columns]"
      ]
     },
     "execution_count": 3,
     "metadata": {},
     "output_type": "execute_result"
    }
   ],
   "source": [
    "df_purchase.head()"
   ]
  },
  {
   "cell_type": "markdown",
   "id": "448e1158",
   "metadata": {},
   "source": [
    "## Data Preparation"
   ]
  },
  {
   "cell_type": "code",
   "execution_count": 4,
   "id": "6c606a21",
   "metadata": {},
   "outputs": [],
   "source": [
    "df_purchase_predictors = df_purchase.copy()"
   ]
  },
  {
   "cell_type": "code",
   "execution_count": 5,
   "id": "67a8af8c",
   "metadata": {},
   "outputs": [],
   "source": [
    "segment_dummies = pd.get_dummies(df_purchase_predictors['Segment'], prefix = 'Segment', prefix_sep = '_')\n",
    "df_purchase_predictors = pd.concat([df_purchase_predictors, segment_dummies], axis = 1)"
   ]
  },
  {
   "cell_type": "code",
   "execution_count": 6,
   "id": "bffcccb8",
   "metadata": {},
   "outputs": [],
   "source": [
    "price_range = np.arange(0.5, 3.0, 0.01)\n",
    "df_price_range = pd.DataFrame(price_range,columns=['Price_range'])"
   ]
  },
  {
   "cell_type": "markdown",
   "id": "70b0c529",
   "metadata": {},
   "source": [
    "## Purchase Probability with Promotion Features"
   ]
  },
  {
   "cell_type": "code",
   "execution_count": 7,
   "id": "2f94d905",
   "metadata": {},
   "outputs": [],
   "source": [
    "y = df_purchase_predictors['Incidence']"
   ]
  },
  {
   "cell_type": "code",
   "execution_count": 8,
   "id": "a6521658",
   "metadata": {},
   "outputs": [],
   "source": [
    "X = pd.DataFrame()\n",
    "X['Mean_Price'] = df_purchase_predictors[['Price_1','Price_2','Price_3','Price_4','Price_5']].mean(axis=1)"
   ]
  },
  {
   "cell_type": "code",
   "execution_count": 9,
   "id": "df41b2eb",
   "metadata": {},
   "outputs": [],
   "source": [
    "X['Mean_Promotion'] = df_purchase_predictors[['Promotion_1','Promotion_2',\n",
    "                                             'Promotion_3','Promotion_4','Promotion_5']].mean(axis=1)"
   ]
  },
  {
   "cell_type": "code",
   "execution_count": 10,
   "id": "c2b180a3",
   "metadata": {},
   "outputs": [
    {
     "data": {
      "text/html": [
       "<div>\n",
       "<style scoped>\n",
       "    .dataframe tbody tr th:only-of-type {\n",
       "        vertical-align: middle;\n",
       "    }\n",
       "\n",
       "    .dataframe tbody tr th {\n",
       "        vertical-align: top;\n",
       "    }\n",
       "\n",
       "    .dataframe thead th {\n",
       "        text-align: right;\n",
       "    }\n",
       "</style>\n",
       "<table border=\"1\" class=\"dataframe\">\n",
       "  <thead>\n",
       "    <tr style=\"text-align: right;\">\n",
       "      <th></th>\n",
       "      <th>Mean_Price</th>\n",
       "      <th>Mean_Promotion</th>\n",
       "    </tr>\n",
       "    <tr>\n",
       "      <th>ID</th>\n",
       "      <th></th>\n",
       "      <th></th>\n",
       "    </tr>\n",
       "  </thead>\n",
       "  <tbody>\n",
       "    <tr>\n",
       "      <th>200000001</th>\n",
       "      <td>2.044</td>\n",
       "      <td>0.2</td>\n",
       "    </tr>\n",
       "    <tr>\n",
       "      <th>200000001</th>\n",
       "      <td>2.028</td>\n",
       "      <td>0.0</td>\n",
       "    </tr>\n",
       "    <tr>\n",
       "      <th>200000001</th>\n",
       "      <td>2.028</td>\n",
       "      <td>0.0</td>\n",
       "    </tr>\n",
       "    <tr>\n",
       "      <th>200000001</th>\n",
       "      <td>2.028</td>\n",
       "      <td>0.0</td>\n",
       "    </tr>\n",
       "    <tr>\n",
       "      <th>200000001</th>\n",
       "      <td>2.030</td>\n",
       "      <td>0.0</td>\n",
       "    </tr>\n",
       "  </tbody>\n",
       "</table>\n",
       "</div>"
      ],
      "text/plain": [
       "           Mean_Price  Mean_Promotion\n",
       "ID                                   \n",
       "200000001       2.044             0.2\n",
       "200000001       2.028             0.0\n",
       "200000001       2.028             0.0\n",
       "200000001       2.028             0.0\n",
       "200000001       2.030             0.0"
      ]
     },
     "execution_count": 10,
     "metadata": {},
     "output_type": "execute_result"
    }
   ],
   "source": [
    "X.head()"
   ]
  },
  {
   "cell_type": "markdown",
   "id": "68efcd6c",
   "metadata": {},
   "source": [
    "## Model"
   ]
  },
  {
   "cell_type": "code",
   "execution_count": 11,
   "id": "44b6ecf5",
   "metadata": {},
   "outputs": [],
   "source": [
    "model_incidence_promotion = LogisticRegression(solver = 'sag')"
   ]
  },
  {
   "cell_type": "code",
   "execution_count": 12,
   "id": "a831cd72",
   "metadata": {},
   "outputs": [
    {
     "data": {
      "text/plain": [
       "array([[-1.49396993,  0.56146254]])"
      ]
     },
     "execution_count": 12,
     "metadata": {},
     "output_type": "execute_result"
    }
   ],
   "source": [
    "model_incidence_promotion.fit(X, y)\n",
    "model_incidence_promotion.coef_"
   ]
  },
  {
   "cell_type": "markdown",
   "id": "77542e9a",
   "metadata": {},
   "source": [
    "## Price Elasticity with Promotion"
   ]
  },
  {
   "cell_type": "code",
   "execution_count": 13,
   "id": "e6758b0e",
   "metadata": {},
   "outputs": [],
   "source": [
    "df_price_elasticity_promotion = df_price_range.copy()\n",
    "df_price_elasticity_promotion['Promotion'] = 1"
   ]
  },
  {
   "cell_type": "code",
   "execution_count": 14,
   "id": "48a23638",
   "metadata": {},
   "outputs": [],
   "source": [
    "y_promotion = model_incidence_promotion.predict_proba(df_price_elasticity_promotion)"
   ]
  },
  {
   "cell_type": "code",
   "execution_count": 15,
   "id": "30c41e16",
   "metadata": {},
   "outputs": [],
   "source": [
    "price_elasticity_promo = (model_incidence_promotion.coef_[:, 0] * price_range) * (1 - y_promotion[:,1])"
   ]
  },
  {
   "cell_type": "code",
   "execution_count": 16,
   "id": "8b2df7ed",
   "metadata": {},
   "outputs": [],
   "source": [
    "df_promo_pe = df_price_range.copy()\n",
    "df_promo_pe['Elasticity_Promotion_1'] = price_elasticity_promo\n",
    "df_promo_pe.set_index('Price_range',inplace=True)"
   ]
  },
  {
   "cell_type": "code",
   "execution_count": 17,
   "id": "f9b01f48",
   "metadata": {},
   "outputs": [
    {
     "data": {
      "image/png": "[encoded data removed]",
      "text/plain": [
       "<Figure size 720x432 with 1 Axes>"
      ]
     },
     "metadata": {},
     "output_type": "display_data"
    }
   ],
   "source": [
    "df_promo_pe.plot(figsize=(10,6))\n",
    "plt.title('Price Elasticity with Promotion');"
   ]
  },
  {
   "cell_type": "markdown",
   "id": "a49479e4",
   "metadata": {},
   "source": [
    "## Price Elasticity without Promotion"
   ]
  },
  {
   "cell_type": "code",
   "execution_count": 18,
   "id": "fbb39e59",
   "metadata": {},
   "outputs": [],
   "source": [
    "df_price_elasticity_no_promotion = df_price_range.copy()\n",
    "df_price_elasticity_no_promotion['Promotion'] = 0"
   ]
  },
  {
   "cell_type": "code",
   "execution_count": 19,
   "id": "0ba9578f",
   "metadata": {},
   "outputs": [],
   "source": [
    "y_no_promotion = model_incidence_promotion.predict_proba(df_price_elasticity_no_promotion)"
   ]
  },
  {
   "cell_type": "code",
   "execution_count": 20,
   "id": "8d3bf381",
   "metadata": {},
   "outputs": [],
   "source": [
    "price_elasticity_no_promo = model_incidence_promotion.coef_[:, 0] * price_range *(1- y_no_promotion[:,1])"
   ]
  },
  {
   "cell_type": "code",
   "execution_count": 21,
   "id": "fcddf1c5",
   "metadata": {},
   "outputs": [],
   "source": [
    "df_promo_pe['Elasticity_Promotion_0'] = price_elasticity_no_promo"
   ]
  },
  {
   "cell_type": "code",
   "execution_count": 22,
   "id": "4ede3075",
   "metadata": {},
   "outputs": [
    {
     "data": {
      "text/plain": [
       "<AxesSubplot:xlabel='Price_range'>"
      ]
     },
     "execution_count": 22,
     "metadata": {},
     "output_type": "execute_result"
    },
    {
     "data": {
      "image/png": "[encoded data removed]",
      "text/plain": [
       "<Figure size 432x288 with 1 Axes>"
      ]
     },
     "metadata": {},
     "output_type": "display_data"
    }
   ],
   "source": [
    "df_promo_pe.plot()"
   ]
  },
  {
   "cell_type": "markdown",
   "id": "941b13ae",
   "metadata": {},
   "source": [
    "## Brand Choice Modeling"
   ]
  },
  {
   "cell_type": "code",
   "execution_count": 23,
   "id": "87236c0e",
   "metadata": {},
   "outputs": [],
   "source": [
    "df_brand = df_purchase_predictors[df_purchase_predictors['Incidence']==1]"
   ]
  },
  {
   "cell_type": "code",
   "execution_count": 32,
   "id": "e0d71307",
   "metadata": {},
   "outputs": [
    {
     "data": {
      "text/html": [
       "<div>\n",
       "<style scoped>\n",
       "    .dataframe tbody tr th:only-of-type {\n",
       "        vertical-align: middle;\n",
       "    }\n",
       "\n",
       "    .dataframe tbody tr th {\n",
       "        vertical-align: top;\n",
       "    }\n",
       "\n",
       "    .dataframe thead th {\n",
       "        text-align: right;\n",
       "    }\n",
       "</style>\n",
       "<table border=\"1\" class=\"dataframe\">\n",
       "  <thead>\n",
       "    <tr style=\"text-align: right;\">\n",
       "      <th></th>\n",
       "      <th>Day</th>\n",
       "      <th>Incidence</th>\n",
       "      <th>Brand</th>\n",
       "      <th>Quantity</th>\n",
       "      <th>Last_Inc_Brand</th>\n",
       "      <th>Last_Inc_Quantity</th>\n",
       "      <th>Price_1</th>\n",
       "      <th>Price_2</th>\n",
       "      <th>Price_3</th>\n",
       "      <th>Price_4</th>\n",
       "      <th>...</th>\n",
       "      <th>Education</th>\n",
       "      <th>Income</th>\n",
       "      <th>Occupation</th>\n",
       "      <th>Settlement size</th>\n",
       "      <th>Segment</th>\n",
       "      <th>Segment Names</th>\n",
       "      <th>Segment_0</th>\n",
       "      <th>Segment_1</th>\n",
       "      <th>Segment_2</th>\n",
       "      <th>Segment_3</th>\n",
       "    </tr>\n",
       "    <tr>\n",
       "      <th>ID</th>\n",
       "      <th></th>\n",
       "      <th></th>\n",
       "      <th></th>\n",
       "      <th></th>\n",
       "      <th></th>\n",
       "      <th></th>\n",
       "      <th></th>\n",
       "      <th></th>\n",
       "      <th></th>\n",
       "      <th></th>\n",
       "      <th></th>\n",
       "      <th></th>\n",
       "      <th></th>\n",
       "      <th></th>\n",
       "      <th></th>\n",
       "      <th></th>\n",
       "      <th></th>\n",
       "      <th></th>\n",
       "      <th></th>\n",
       "      <th></th>\n",
       "      <th></th>\n",
       "    </tr>\n",
       "  </thead>\n",
       "  <tbody>\n",
       "    <tr>\n",
       "      <th>200000001</th>\n",
       "      <td>28</td>\n",
       "      <td>1</td>\n",
       "      <td>2</td>\n",
       "      <td>2</td>\n",
       "      <td>0</td>\n",
       "      <td>0</td>\n",
       "      <td>1.50</td>\n",
       "      <td>1.90</td>\n",
       "      <td>1.99</td>\n",
       "      <td>2.09</td>\n",
       "      <td>...</td>\n",
       "      <td>1</td>\n",
       "      <td>110866</td>\n",
       "      <td>1</td>\n",
       "      <td>0</td>\n",
       "      <td>2</td>\n",
       "      <td>fewer opportunities</td>\n",
       "      <td>0</td>\n",
       "      <td>0</td>\n",
       "      <td>1</td>\n",
       "      <td>0</td>\n",
       "    </tr>\n",
       "    <tr>\n",
       "      <th>200000001</th>\n",
       "      <td>58</td>\n",
       "      <td>1</td>\n",
       "      <td>5</td>\n",
       "      <td>1</td>\n",
       "      <td>0</td>\n",
       "      <td>0</td>\n",
       "      <td>1.39</td>\n",
       "      <td>1.90</td>\n",
       "      <td>1.91</td>\n",
       "      <td>2.12</td>\n",
       "      <td>...</td>\n",
       "      <td>1</td>\n",
       "      <td>110866</td>\n",
       "      <td>1</td>\n",
       "      <td>0</td>\n",
       "      <td>2</td>\n",
       "      <td>fewer opportunities</td>\n",
       "      <td>0</td>\n",
       "      <td>0</td>\n",
       "      <td>1</td>\n",
       "      <td>0</td>\n",
       "    </tr>\n",
       "    <tr>\n",
       "      <th>200000001</th>\n",
       "      <td>110</td>\n",
       "      <td>1</td>\n",
       "      <td>1</td>\n",
       "      <td>2</td>\n",
       "      <td>0</td>\n",
       "      <td>0</td>\n",
       "      <td>1.47</td>\n",
       "      <td>1.90</td>\n",
       "      <td>1.99</td>\n",
       "      <td>1.97</td>\n",
       "      <td>...</td>\n",
       "      <td>1</td>\n",
       "      <td>110866</td>\n",
       "      <td>1</td>\n",
       "      <td>0</td>\n",
       "      <td>2</td>\n",
       "      <td>fewer opportunities</td>\n",
       "      <td>0</td>\n",
       "      <td>0</td>\n",
       "      <td>1</td>\n",
       "      <td>0</td>\n",
       "    </tr>\n",
       "    <tr>\n",
       "      <th>200000001</th>\n",
       "      <td>142</td>\n",
       "      <td>1</td>\n",
       "      <td>4</td>\n",
       "      <td>1</td>\n",
       "      <td>0</td>\n",
       "      <td>0</td>\n",
       "      <td>1.21</td>\n",
       "      <td>1.35</td>\n",
       "      <td>1.99</td>\n",
       "      <td>2.16</td>\n",
       "      <td>...</td>\n",
       "      <td>1</td>\n",
       "      <td>110866</td>\n",
       "      <td>1</td>\n",
       "      <td>0</td>\n",
       "      <td>2</td>\n",
       "      <td>fewer opportunities</td>\n",
       "      <td>0</td>\n",
       "      <td>0</td>\n",
       "      <td>1</td>\n",
       "      <td>0</td>\n",
       "    </tr>\n",
       "    <tr>\n",
       "      <th>200000001</th>\n",
       "      <td>183</td>\n",
       "      <td>1</td>\n",
       "      <td>2</td>\n",
       "      <td>3</td>\n",
       "      <td>0</td>\n",
       "      <td>0</td>\n",
       "      <td>1.46</td>\n",
       "      <td>1.88</td>\n",
       "      <td>1.97</td>\n",
       "      <td>1.89</td>\n",
       "      <td>...</td>\n",
       "      <td>1</td>\n",
       "      <td>110866</td>\n",
       "      <td>1</td>\n",
       "      <td>0</td>\n",
       "      <td>2</td>\n",
       "      <td>fewer opportunities</td>\n",
       "      <td>0</td>\n",
       "      <td>0</td>\n",
       "      <td>1</td>\n",
       "      <td>0</td>\n",
       "    </tr>\n",
       "    <tr>\n",
       "      <th>...</th>\n",
       "      <td>...</td>\n",
       "      <td>...</td>\n",
       "      <td>...</td>\n",
       "      <td>...</td>\n",
       "      <td>...</td>\n",
       "      <td>...</td>\n",
       "      <td>...</td>\n",
       "      <td>...</td>\n",
       "      <td>...</td>\n",
       "      <td>...</td>\n",
       "      <td>...</td>\n",
       "      <td>...</td>\n",
       "      <td>...</td>\n",
       "      <td>...</td>\n",
       "      <td>...</td>\n",
       "      <td>...</td>\n",
       "      <td>...</td>\n",
       "      <td>...</td>\n",
       "      <td>...</td>\n",
       "      <td>...</td>\n",
       "      <td>...</td>\n",
       "    </tr>\n",
       "    <tr>\n",
       "      <th>200000500</th>\n",
       "      <td>296</td>\n",
       "      <td>1</td>\n",
       "      <td>2</td>\n",
       "      <td>6</td>\n",
       "      <td>0</td>\n",
       "      <td>0</td>\n",
       "      <td>1.48</td>\n",
       "      <td>1.89</td>\n",
       "      <td>2.01</td>\n",
       "      <td>2.18</td>\n",
       "      <td>...</td>\n",
       "      <td>1</td>\n",
       "      <td>120946</td>\n",
       "      <td>1</td>\n",
       "      <td>0</td>\n",
       "      <td>2</td>\n",
       "      <td>fewer opportunities</td>\n",
       "      <td>0</td>\n",
       "      <td>0</td>\n",
       "      <td>1</td>\n",
       "      <td>0</td>\n",
       "    </tr>\n",
       "    <tr>\n",
       "      <th>200000500</th>\n",
       "      <td>460</td>\n",
       "      <td>1</td>\n",
       "      <td>1</td>\n",
       "      <td>12</td>\n",
       "      <td>0</td>\n",
       "      <td>0</td>\n",
       "      <td>1.35</td>\n",
       "      <td>1.57</td>\n",
       "      <td>2.02</td>\n",
       "      <td>2.21</td>\n",
       "      <td>...</td>\n",
       "      <td>1</td>\n",
       "      <td>120946</td>\n",
       "      <td>1</td>\n",
       "      <td>0</td>\n",
       "      <td>2</td>\n",
       "      <td>fewer opportunities</td>\n",
       "      <td>0</td>\n",
       "      <td>0</td>\n",
       "      <td>1</td>\n",
       "      <td>0</td>\n",
       "    </tr>\n",
       "    <tr>\n",
       "      <th>200000500</th>\n",
       "      <td>641</td>\n",
       "      <td>1</td>\n",
       "      <td>2</td>\n",
       "      <td>7</td>\n",
       "      <td>0</td>\n",
       "      <td>0</td>\n",
       "      <td>1.50</td>\n",
       "      <td>1.85</td>\n",
       "      <td>2.06</td>\n",
       "      <td>2.24</td>\n",
       "      <td>...</td>\n",
       "      <td>1</td>\n",
       "      <td>120946</td>\n",
       "      <td>1</td>\n",
       "      <td>0</td>\n",
       "      <td>2</td>\n",
       "      <td>fewer opportunities</td>\n",
       "      <td>0</td>\n",
       "      <td>0</td>\n",
       "      <td>1</td>\n",
       "      <td>0</td>\n",
       "    </tr>\n",
       "    <tr>\n",
       "      <th>200000500</th>\n",
       "      <td>697</td>\n",
       "      <td>1</td>\n",
       "      <td>2</td>\n",
       "      <td>6</td>\n",
       "      <td>0</td>\n",
       "      <td>0</td>\n",
       "      <td>1.42</td>\n",
       "      <td>1.51</td>\n",
       "      <td>1.97</td>\n",
       "      <td>2.24</td>\n",
       "      <td>...</td>\n",
       "      <td>1</td>\n",
       "      <td>120946</td>\n",
       "      <td>1</td>\n",
       "      <td>0</td>\n",
       "      <td>2</td>\n",
       "      <td>fewer opportunities</td>\n",
       "      <td>0</td>\n",
       "      <td>0</td>\n",
       "      <td>1</td>\n",
       "      <td>0</td>\n",
       "    </tr>\n",
       "    <tr>\n",
       "      <th>200000500</th>\n",
       "      <td>722</td>\n",
       "      <td>1</td>\n",
       "      <td>2</td>\n",
       "      <td>3</td>\n",
       "      <td>0</td>\n",
       "      <td>0</td>\n",
       "      <td>1.51</td>\n",
       "      <td>1.82</td>\n",
       "      <td>2.09</td>\n",
       "      <td>2.24</td>\n",
       "      <td>...</td>\n",
       "      <td>1</td>\n",
       "      <td>120946</td>\n",
       "      <td>1</td>\n",
       "      <td>0</td>\n",
       "      <td>2</td>\n",
       "      <td>fewer opportunities</td>\n",
       "      <td>0</td>\n",
       "      <td>0</td>\n",
       "      <td>1</td>\n",
       "      <td>0</td>\n",
       "    </tr>\n",
       "  </tbody>\n",
       "</table>\n",
       "<p>14638 rows × 29 columns</p>\n",
       "</div>"
      ],
      "text/plain": [
       "           Day  Incidence  Brand  Quantity  Last_Inc_Brand  Last_Inc_Quantity  \\\n",
       "ID                                                                              \n",
       "200000001   28          1      2         2               0                  0   \n",
       "200000001   58          1      5         1               0                  0   \n",
       "200000001  110          1      1         2               0                  0   \n",
       "200000001  142          1      4         1               0                  0   \n",
       "200000001  183          1      2         3               0                  0   \n",
       "...        ...        ...    ...       ...             ...                ...   \n",
       "200000500  296          1      2         6               0                  0   \n",
       "200000500  460          1      1        12               0                  0   \n",
       "200000500  641          1      2         7               0                  0   \n",
       "200000500  697          1      2         6               0                  0   \n",
       "200000500  722          1      2         3               0                  0   \n",
       "\n",
       "           Price_1  Price_2  Price_3  Price_4  ...  Education  Income  \\\n",
       "ID                                             ...                      \n",
       "200000001     1.50     1.90     1.99     2.09  ...          1  110866   \n",
       "200000001     1.39     1.90     1.91     2.12  ...          1  110866   \n",
       "200000001     1.47     1.90     1.99     1.97  ...          1  110866   \n",
       "200000001     1.21     1.35     1.99     2.16  ...          1  110866   \n",
       "200000001     1.46     1.88     1.97     1.89  ...          1  110866   \n",
       "...            ...      ...      ...      ...  ...        ...     ...   \n",
       "200000500     1.48     1.89     2.01     2.18  ...          1  120946   \n",
       "200000500     1.35     1.57     2.02     2.21  ...          1  120946   \n",
       "200000500     1.50     1.85     2.06     2.24  ...          1  120946   \n",
       "200000500     1.42     1.51     1.97     2.24  ...          1  120946   \n",
       "200000500     1.51     1.82     2.09     2.24  ...          1  120946   \n",
       "\n",
       "           Occupation  Settlement size  Segment        Segment Names  \\\n",
       "ID                                                                     \n",
       "200000001           1                0        2  fewer opportunities   \n",
       "200000001           1                0        2  fewer opportunities   \n",
       "200000001           1                0        2  fewer opportunities   \n",
       "200000001           1                0        2  fewer opportunities   \n",
       "200000001           1                0        2  fewer opportunities   \n",
       "...               ...              ...      ...                  ...   \n",
       "200000500           1                0        2  fewer opportunities   \n",
       "200000500           1                0        2  fewer opportunities   \n",
       "200000500           1                0        2  fewer opportunities   \n",
       "200000500           1                0        2  fewer opportunities   \n",
       "200000500           1                0        2  fewer opportunities   \n",
       "\n",
       "           Segment_0  Segment_1  Segment_2  Segment_3  \n",
       "ID                                                     \n",
       "200000001          0          0          1          0  \n",
       "200000001          0          0          1          0  \n",
       "200000001          0          0          1          0  \n",
       "200000001          0          0          1          0  \n",
       "200000001          0          0          1          0  \n",
       "...              ...        ...        ...        ...  \n",
       "200000500          0          0          1          0  \n",
       "200000500          0          0          1          0  \n",
       "200000500          0          0          1          0  \n",
       "200000500          0          0          1          0  \n",
       "200000500          0          0          1          0  \n",
       "\n",
       "[14638 rows x 29 columns]"
      ]
     },
     "execution_count": 32,
     "metadata": {},
     "output_type": "execute_result"
    }
   ],
   "source": [
    "df_brand"
   ]
  },
  {
   "cell_type": "code",
   "execution_count": 33,
   "id": "2b913843",
   "metadata": {},
   "outputs": [],
   "source": [
    "y_brand = df_brand['Brand']"
   ]
  },
  {
   "cell_type": "code",
   "execution_count": 34,
   "id": "8fb6d7fa",
   "metadata": {},
   "outputs": [],
   "source": [
    "X_brand = df_brand[['Price_1', 'Price_2', 'Price_3', 'Price_4', 'Price_5']]"
   ]
  },
  {
   "cell_type": "code",
   "execution_count": 30,
   "id": "f36d1dcf",
   "metadata": {},
   "outputs": [],
   "source": [
    "model_brand_choice = LogisticRegression(solver = 'sag', multi_class = 'multinomial')"
   ]
  },
  {
   "cell_type": "code",
   "execution_count": 35,
   "id": "1be033be",
   "metadata": {},
   "outputs": [
    {
     "data": {
      "text/html": [
       "<style>#sk-container-id-1 {color: black;background-color: white;}#sk-container-id-1 pre{padding: 0;}#sk-container-id-1 div.sk-toggleable {background-color: white;}#sk-container-id-1 label.sk-toggleable__label {cursor: pointer;display: block;width: 100%;margin-bottom: 0;padding: 0.3em;box-sizing: border-box;text-align: center;}#sk-container-id-1 label.sk-toggleable__label-arrow:before {content: \"▸\";float: left;margin-right: 0.25em;color: #696969;}#sk-container-id-1 label.sk-toggleable__label-arrow:hover:before {color: black;}#sk-container-id-1 div.sk-estimator:hover label.sk-toggleable__label-arrow:before {color: black;}#sk-container-id-1 div.sk-toggleable__content {max-height: 0;max-width: 0;overflow: hidden;text-align: left;background-color: #f0f8ff;}#sk-container-id-1 div.sk-toggleable__content pre {margin: 0.2em;color: black;border-radius: 0.25em;background-color: #f0f8ff;}#sk-container-id-1 input.sk-toggleable__control:checked~div.sk-toggleable__content {max-height: 200px;max-width: 100%;overflow: auto;}#sk-container-id-1 input.sk-toggleable__control:checked~label.sk-toggleable__label-arrow:before {content: \"▾\";}#sk-container-id-1 div.sk-estimator input.sk-toggleable__control:checked~label.sk-toggleable__label {background-color: #d4ebff;}#sk-container-id-1 div.sk-label input.sk-toggleable__control:checked~label.sk-toggleable__label {background-color: #d4ebff;}#sk-container-id-1 input.sk-hidden--visually {border: 0;clip: rect(1px 1px 1px 1px);clip: rect(1px, 1px, 1px, 1px);height: 1px;margin: -1px;overflow: hidden;padding: 0;position: absolute;width: 1px;}#sk-container-id-1 div.sk-estimator {font-family: monospace;background-color: #f0f8ff;border: 1px dotted black;border-radius: 0.25em;box-sizing: border-box;margin-bottom: 0.5em;}#sk-container-id-1 div.sk-estimator:hover {background-color: #d4ebff;}#sk-container-id-1 div.sk-parallel-item::after {content: \"\";width: 100%;border-bottom: 1px solid gray;flex-grow: 1;}#sk-container-id-1 div.sk-label:hover label.sk-toggleable__label {background-color: #d4ebff;}#sk-container-id-1 div.sk-serial::before {content: \"\";position: absolute;border-left: 1px solid gray;box-sizing: border-box;top: 0;bottom: 0;left: 50%;z-index: 0;}#sk-container-id-1 div.sk-serial {display: flex;flex-direction: column;align-items: center;background-color: white;padding-right: 0.2em;padding-left: 0.2em;position: relative;}#sk-container-id-1 div.sk-item {position: relative;z-index: 1;}#sk-container-id-1 div.sk-parallel {display: flex;align-items: stretch;justify-content: center;background-color: white;position: relative;}#sk-container-id-1 div.sk-item::before, #sk-container-id-1 div.sk-parallel-item::before {content: \"\";position: absolute;border-left: 1px solid gray;box-sizing: border-box;top: 0;bottom: 0;left: 50%;z-index: -1;}#sk-container-id-1 div.sk-parallel-item {display: flex;flex-direction: column;z-index: 1;position: relative;background-color: white;}#sk-container-id-1 div.sk-parallel-item:first-child::after {align-self: flex-end;width: 50%;}#sk-container-id-1 div.sk-parallel-item:last-child::after {align-self: flex-start;width: 50%;}#sk-container-id-1 div.sk-parallel-item:only-child::after {width: 0;}#sk-container-id-1 div.sk-dashed-wrapped {border: 1px dashed gray;margin: 0 0.4em 0.5em 0.4em;box-sizing: border-box;padding-bottom: 0.4em;background-color: white;}#sk-container-id-1 div.sk-label label {font-family: monospace;font-weight: bold;display: inline-block;line-height: 1.2em;}#sk-container-id-1 div.sk-label-container {text-align: center;}#sk-container-id-1 div.sk-container {/* jupyter's `normalize.less` sets `[hidden] { display: none; }` but bootstrap.min.css set `[hidden] { display: none !important; }` so we also need the `!important` here to be able to override the default hidden behavior on the sphinx rendered scikit-learn.org. See: https://github.com/scikit-learn/scikit-learn/issues/21755 */display: inline-block !important;position: relative;}#sk-container-id-1 div.sk-text-repr-fallback {display: none;}</style><div id=\"sk-container-id-1\" class=\"sk-top-container\"><div class=\"sk-text-repr-fallback\"><pre>LogisticRegression(multi_class=&#x27;multinomial&#x27;, solver=&#x27;sag&#x27;)</pre><b>In a Jupyter environment, please rerun this cell to show the HTML representation or trust the notebook. <br />On GitHub, the HTML representation is unable to render, please try loading this page with nbviewer.org.</b></div><div class=\"sk-container\" hidden><div class=\"sk-item\"><div class=\"sk-estimator sk-toggleable\"><input class=\"sk-toggleable__control sk-hidden--visually\" id=\"sk-estimator-id-1\" type=\"checkbox\" checked><label for=\"sk-estimator-id-1\" class=\"sk-toggleable__label sk-toggleable__label-arrow\">LogisticRegression</label><div class=\"sk-toggleable__content\"><pre>LogisticRegression(multi_class=&#x27;multinomial&#x27;, solver=&#x27;sag&#x27;)</pre></div></div></div></div></div>"
      ],
      "text/plain": [
       "LogisticRegression(multi_class='multinomial', solver='sag')"
      ]
     },
     "execution_count": 35,
     "metadata": {},
     "output_type": "execute_result"
    }
   ],
   "source": [
    "model_brand_choice.fit(X_brand, y_brand)"
   ]
  },
  {
   "cell_type": "code",
   "execution_count": 39,
   "id": "c44db1fd",
   "metadata": {},
   "outputs": [
    {
     "data": {
      "text/html": [
       "<div>\n",
       "<style scoped>\n",
       "    .dataframe tbody tr th:only-of-type {\n",
       "        vertical-align: middle;\n",
       "    }\n",
       "\n",
       "    .dataframe tbody tr th {\n",
       "        vertical-align: top;\n",
       "    }\n",
       "\n",
       "    .dataframe thead th {\n",
       "        text-align: right;\n",
       "    }\n",
       "</style>\n",
       "<table border=\"1\" class=\"dataframe\">\n",
       "  <thead>\n",
       "    <tr style=\"text-align: right;\">\n",
       "      <th></th>\n",
       "      <th>0</th>\n",
       "      <th>1</th>\n",
       "      <th>2</th>\n",
       "      <th>3</th>\n",
       "      <th>4</th>\n",
       "    </tr>\n",
       "  </thead>\n",
       "  <tbody>\n",
       "    <tr>\n",
       "      <th>0</th>\n",
       "      <td>-3.915980</td>\n",
       "      <td>0.658451</td>\n",
       "      <td>2.417644</td>\n",
       "      <td>0.704069</td>\n",
       "      <td>-0.202135</td>\n",
       "    </tr>\n",
       "    <tr>\n",
       "      <th>1</th>\n",
       "      <td>1.274605</td>\n",
       "      <td>-1.879858</td>\n",
       "      <td>-0.212666</td>\n",
       "      <td>-0.206346</td>\n",
       "      <td>0.587864</td>\n",
       "    </tr>\n",
       "    <tr>\n",
       "      <th>2</th>\n",
       "      <td>1.624233</td>\n",
       "      <td>0.562129</td>\n",
       "      <td>0.501028</td>\n",
       "      <td>1.039540</td>\n",
       "      <td>0.452834</td>\n",
       "    </tr>\n",
       "    <tr>\n",
       "      <th>3</th>\n",
       "      <td>0.574529</td>\n",
       "      <td>0.395584</td>\n",
       "      <td>-1.400634</td>\n",
       "      <td>-1.246250</td>\n",
       "      <td>0.249343</td>\n",
       "    </tr>\n",
       "    <tr>\n",
       "      <th>4</th>\n",
       "      <td>0.442613</td>\n",
       "      <td>0.263695</td>\n",
       "      <td>-1.305372</td>\n",
       "      <td>-0.291013</td>\n",
       "      <td>-1.087906</td>\n",
       "    </tr>\n",
       "  </tbody>\n",
       "</table>\n",
       "</div>"
      ],
      "text/plain": [
       "          0         1         2         3         4\n",
       "0 -3.915980  0.658451  2.417644  0.704069 -0.202135\n",
       "1  1.274605 -1.879858 -0.212666 -0.206346  0.587864\n",
       "2  1.624233  0.562129  0.501028  1.039540  0.452834\n",
       "3  0.574529  0.395584 -1.400634 -1.246250  0.249343\n",
       "4  0.442613  0.263695 -1.305372 -0.291013 -1.087906"
      ]
     },
     "execution_count": 39,
     "metadata": {},
     "output_type": "execute_result"
    }
   ],
   "source": [
    "coef = pd.DataFrame(model_brand_choice.coef_)\n",
    "coef"
   ]
  },
  {
   "cell_type": "code",
   "execution_count": 41,
   "id": "7bac4563",
   "metadata": {},
   "outputs": [],
   "source": [
    "coefficient = coef.T\n",
    "coefficient = coefficient.rename(columns={0:'Coef_Brand_1',1:'Coef_Brand_2',2:'Coef_Brand_3',\n",
    "                                         3:'Coef_Brand_4',4:'Coef_Brand_5'})"
   ]
  },
  {
   "cell_type": "code",
   "execution_count": 45,
   "id": "07a8f5aa",
   "metadata": {},
   "outputs": [
    {
     "data": {
      "text/html": [
       "<div>\n",
       "<style scoped>\n",
       "    .dataframe tbody tr th:only-of-type {\n",
       "        vertical-align: middle;\n",
       "    }\n",
       "\n",
       "    .dataframe tbody tr th {\n",
       "        vertical-align: top;\n",
       "    }\n",
       "\n",
       "    .dataframe thead th {\n",
       "        text-align: right;\n",
       "    }\n",
       "</style>\n",
       "<table border=\"1\" class=\"dataframe\">\n",
       "  <thead>\n",
       "    <tr style=\"text-align: right;\">\n",
       "      <th></th>\n",
       "      <th>Coef_Brand_1</th>\n",
       "      <th>Coef_Brand_2</th>\n",
       "      <th>Coef_Brand_3</th>\n",
       "      <th>Coef_Brand_4</th>\n",
       "      <th>Coef_Brand_5</th>\n",
       "    </tr>\n",
       "  </thead>\n",
       "  <tbody>\n",
       "    <tr>\n",
       "      <th>Price_1</th>\n",
       "      <td>-3.915980</td>\n",
       "      <td>0.658451</td>\n",
       "      <td>2.417644</td>\n",
       "      <td>0.704069</td>\n",
       "      <td>-0.202135</td>\n",
       "    </tr>\n",
       "    <tr>\n",
       "      <th>Price_2</th>\n",
       "      <td>1.274605</td>\n",
       "      <td>-1.879858</td>\n",
       "      <td>-0.212666</td>\n",
       "      <td>-0.206346</td>\n",
       "      <td>0.587864</td>\n",
       "    </tr>\n",
       "    <tr>\n",
       "      <th>Price_3</th>\n",
       "      <td>1.624233</td>\n",
       "      <td>0.562129</td>\n",
       "      <td>0.501028</td>\n",
       "      <td>1.039540</td>\n",
       "      <td>0.452834</td>\n",
       "    </tr>\n",
       "    <tr>\n",
       "      <th>Price_4</th>\n",
       "      <td>0.574529</td>\n",
       "      <td>0.395584</td>\n",
       "      <td>-1.400634</td>\n",
       "      <td>-1.246250</td>\n",
       "      <td>0.249343</td>\n",
       "    </tr>\n",
       "    <tr>\n",
       "      <th>Price_5</th>\n",
       "      <td>0.442613</td>\n",
       "      <td>0.263695</td>\n",
       "      <td>-1.305372</td>\n",
       "      <td>-0.291013</td>\n",
       "      <td>-1.087906</td>\n",
       "    </tr>\n",
       "  </tbody>\n",
       "</table>\n",
       "</div>"
      ],
      "text/plain": [
       "         Coef_Brand_1  Coef_Brand_2  Coef_Brand_3  Coef_Brand_4  Coef_Brand_5\n",
       "Price_1     -3.915980      0.658451      2.417644      0.704069     -0.202135\n",
       "Price_2      1.274605     -1.879858     -0.212666     -0.206346      0.587864\n",
       "Price_3      1.624233      0.562129      0.501028      1.039540      0.452834\n",
       "Price_4      0.574529      0.395584     -1.400634     -1.246250      0.249343\n",
       "Price_5      0.442613      0.263695     -1.305372     -0.291013     -1.087906"
      ]
     },
     "execution_count": 45,
     "metadata": {},
     "output_type": "execute_result"
    }
   ],
   "source": [
    "coefficient.index = ['Price_1','Price_2','Price_3', 'Price_4', 'Price_5']\n",
    "coefficient"
   ]
  },
  {
   "cell_type": "markdown",
   "id": "aec10a58",
   "metadata": {},
   "source": [
    "## Own Price Elasticity Brand 5"
   ]
  },
  {
   "cell_type": "code",
   "execution_count": 46,
   "id": "ae68bc0f",
   "metadata": {},
   "outputs": [
    {
     "data": {
      "text/html": [
       "<div>\n",
       "<style scoped>\n",
       "    .dataframe tbody tr th:only-of-type {\n",
       "        vertical-align: middle;\n",
       "    }\n",
       "\n",
       "    .dataframe tbody tr th {\n",
       "        vertical-align: top;\n",
       "    }\n",
       "\n",
       "    .dataframe thead th {\n",
       "        text-align: right;\n",
       "    }\n",
       "</style>\n",
       "<table border=\"1\" class=\"dataframe\">\n",
       "  <thead>\n",
       "    <tr style=\"text-align: right;\">\n",
       "      <th></th>\n",
       "      <th>Price_1</th>\n",
       "      <th>Price_2</th>\n",
       "      <th>Price_3</th>\n",
       "      <th>Price_4</th>\n",
       "      <th>Price_5</th>\n",
       "    </tr>\n",
       "  </thead>\n",
       "  <tbody>\n",
       "    <tr>\n",
       "      <th>0</th>\n",
       "      <td>1.384559</td>\n",
       "      <td>1.764717</td>\n",
       "      <td>2.006694</td>\n",
       "      <td>2.159658</td>\n",
       "      <td>0.50</td>\n",
       "    </tr>\n",
       "    <tr>\n",
       "      <th>1</th>\n",
       "      <td>1.384559</td>\n",
       "      <td>1.764717</td>\n",
       "      <td>2.006694</td>\n",
       "      <td>2.159658</td>\n",
       "      <td>0.51</td>\n",
       "    </tr>\n",
       "    <tr>\n",
       "      <th>2</th>\n",
       "      <td>1.384559</td>\n",
       "      <td>1.764717</td>\n",
       "      <td>2.006694</td>\n",
       "      <td>2.159658</td>\n",
       "      <td>0.52</td>\n",
       "    </tr>\n",
       "    <tr>\n",
       "      <th>3</th>\n",
       "      <td>1.384559</td>\n",
       "      <td>1.764717</td>\n",
       "      <td>2.006694</td>\n",
       "      <td>2.159658</td>\n",
       "      <td>0.53</td>\n",
       "    </tr>\n",
       "    <tr>\n",
       "      <th>4</th>\n",
       "      <td>1.384559</td>\n",
       "      <td>1.764717</td>\n",
       "      <td>2.006694</td>\n",
       "      <td>2.159658</td>\n",
       "      <td>0.54</td>\n",
       "    </tr>\n",
       "    <tr>\n",
       "      <th>...</th>\n",
       "      <td>...</td>\n",
       "      <td>...</td>\n",
       "      <td>...</td>\n",
       "      <td>...</td>\n",
       "      <td>...</td>\n",
       "    </tr>\n",
       "    <tr>\n",
       "      <th>245</th>\n",
       "      <td>1.384559</td>\n",
       "      <td>1.764717</td>\n",
       "      <td>2.006694</td>\n",
       "      <td>2.159658</td>\n",
       "      <td>2.95</td>\n",
       "    </tr>\n",
       "    <tr>\n",
       "      <th>246</th>\n",
       "      <td>1.384559</td>\n",
       "      <td>1.764717</td>\n",
       "      <td>2.006694</td>\n",
       "      <td>2.159658</td>\n",
       "      <td>2.96</td>\n",
       "    </tr>\n",
       "    <tr>\n",
       "      <th>247</th>\n",
       "      <td>1.384559</td>\n",
       "      <td>1.764717</td>\n",
       "      <td>2.006694</td>\n",
       "      <td>2.159658</td>\n",
       "      <td>2.97</td>\n",
       "    </tr>\n",
       "    <tr>\n",
       "      <th>248</th>\n",
       "      <td>1.384559</td>\n",
       "      <td>1.764717</td>\n",
       "      <td>2.006694</td>\n",
       "      <td>2.159658</td>\n",
       "      <td>2.98</td>\n",
       "    </tr>\n",
       "    <tr>\n",
       "      <th>249</th>\n",
       "      <td>1.384559</td>\n",
       "      <td>1.764717</td>\n",
       "      <td>2.006694</td>\n",
       "      <td>2.159658</td>\n",
       "      <td>2.99</td>\n",
       "    </tr>\n",
       "  </tbody>\n",
       "</table>\n",
       "<p>250 rows × 5 columns</p>\n",
       "</div>"
      ],
      "text/plain": [
       "      Price_1   Price_2   Price_3   Price_4  Price_5\n",
       "0    1.384559  1.764717  2.006694  2.159658     0.50\n",
       "1    1.384559  1.764717  2.006694  2.159658     0.51\n",
       "2    1.384559  1.764717  2.006694  2.159658     0.52\n",
       "3    1.384559  1.764717  2.006694  2.159658     0.53\n",
       "4    1.384559  1.764717  2.006694  2.159658     0.54\n",
       "..        ...       ...       ...       ...      ...\n",
       "245  1.384559  1.764717  2.006694  2.159658     2.95\n",
       "246  1.384559  1.764717  2.006694  2.159658     2.96\n",
       "247  1.384559  1.764717  2.006694  2.159658     2.97\n",
       "248  1.384559  1.764717  2.006694  2.159658     2.98\n",
       "249  1.384559  1.764717  2.006694  2.159658     2.99\n",
       "\n",
       "[250 rows x 5 columns]"
      ]
     },
     "execution_count": 46,
     "metadata": {},
     "output_type": "execute_result"
    }
   ],
   "source": [
    "df_own_brand_5 = pd.DataFrame(index = np.arange(price_range.size))\n",
    "df_own_brand_5['Price_1'] = df_brand['Price_1'].mean()\n",
    "df_own_brand_5['Price_2'] = df_brand['Price_2'].mean()\n",
    "df_own_brand_5['Price_3'] = df_brand['Price_3'].mean()\n",
    "df_own_brand_5['Price_4'] = df_brand['Price_4'].mean()\n",
    "df_own_brand_5['Price_5'] = price_range\n",
    "df_own_brand_5"
   ]
  },
  {
   "cell_type": "code",
   "execution_count": 47,
   "id": "be809b2f",
   "metadata": {},
   "outputs": [],
   "source": [
    "predict_brand_5 = model_brand_choice.predict_proba(df_own_brand_5)"
   ]
  },
  {
   "cell_type": "code",
   "execution_count": 49,
   "id": "a0f5a6e5",
   "metadata": {},
   "outputs": [
    {
     "data": {
      "text/plain": [
       "-1.0879059089650402"
      ]
     },
     "execution_count": 49,
     "metadata": {},
     "output_type": "execute_result"
    }
   ],
   "source": [
    "pr_own_brand_5 = predict_brand_5[: ][:, 4]\n",
    "beta5 = coef.iloc[4, 4]\n",
    "beta5"
   ]
  },
  {
   "cell_type": "code",
   "execution_count": 50,
   "id": "5e603b03",
   "metadata": {},
   "outputs": [],
   "source": [
    "own_price_elasticity_brand_5 = beta5 * price_range * (1 - pr_own_brand_5)"
   ]
  },
  {
   "cell_type": "code",
   "execution_count": 53,
   "id": "8dcf435e",
   "metadata": {},
   "outputs": [],
   "source": [
    "df_brand_pe = pd.DataFrame()\n",
    "df_brand_pe['Brand_5'] = own_price_elasticity_brand_5\n",
    "df_brand_pe.index=price_range"
   ]
  },
  {
   "cell_type": "code",
   "execution_count": 59,
   "id": "78f6796f",
   "metadata": {},
   "outputs": [
    {
     "data": {
      "image/png": "[encoded data removed]",
      "text/plain": [
       "<Figure size 720x432 with 1 Axes>"
      ]
     },
     "metadata": {},
     "output_type": "display_data"
    }
   ],
   "source": [
    "df_brand_pe.plot(figsize=(10,6))\n",
    "plt.xlabel('Price 5')\n",
    "plt.ylabel('Elasticity')\n",
    "plt.title('Own Price Elasticity of Purchase Probability for Brand 5');"
   ]
  },
  {
   "cell_type": "markdown",
   "id": "8c016c56",
   "metadata": {},
   "source": [
    "## Cross Price Elasticity Brand 5, Cross Brand 4"
   ]
  },
  {
   "cell_type": "code",
   "execution_count": 60,
   "id": "ae0ab481",
   "metadata": {},
   "outputs": [],
   "source": [
    "df_brand5_cross_brand4 = pd.DataFrame(index = np.arange(price_range.size))\n",
    "df_brand5_cross_brand4['Price_1'] = df_brand['Price_1'].mean()\n",
    "df_brand5_cross_brand4['Price_2'] = df_brand['Price_2'].mean()\n",
    "df_brand5_cross_brand4['Price_3'] = df_brand['Price_3'].mean()\n",
    "df_brand5_cross_brand4['Price_4'] = price_range\n",
    "df_brand5_cross_brand4['Price_5'] = df_brand['Price_5'].mean()"
   ]
  },
  {
   "cell_type": "code",
   "execution_count": 61,
   "id": "a3af318d",
   "metadata": {},
   "outputs": [
    {
     "data": {
      "text/html": [
       "<div>\n",
       "<style scoped>\n",
       "    .dataframe tbody tr th:only-of-type {\n",
       "        vertical-align: middle;\n",
       "    }\n",
       "\n",
       "    .dataframe tbody tr th {\n",
       "        vertical-align: top;\n",
       "    }\n",
       "\n",
       "    .dataframe thead th {\n",
       "        text-align: right;\n",
       "    }\n",
       "</style>\n",
       "<table border=\"1\" class=\"dataframe\">\n",
       "  <thead>\n",
       "    <tr style=\"text-align: right;\">\n",
       "      <th></th>\n",
       "      <th>Price_1</th>\n",
       "      <th>Price_2</th>\n",
       "      <th>Price_3</th>\n",
       "      <th>Price_4</th>\n",
       "      <th>Price_5</th>\n",
       "    </tr>\n",
       "  </thead>\n",
       "  <tbody>\n",
       "    <tr>\n",
       "      <th>0</th>\n",
       "      <td>1.384559</td>\n",
       "      <td>1.764717</td>\n",
       "      <td>2.006694</td>\n",
       "      <td>0.50</td>\n",
       "      <td>2.654296</td>\n",
       "    </tr>\n",
       "    <tr>\n",
       "      <th>1</th>\n",
       "      <td>1.384559</td>\n",
       "      <td>1.764717</td>\n",
       "      <td>2.006694</td>\n",
       "      <td>0.51</td>\n",
       "      <td>2.654296</td>\n",
       "    </tr>\n",
       "    <tr>\n",
       "      <th>2</th>\n",
       "      <td>1.384559</td>\n",
       "      <td>1.764717</td>\n",
       "      <td>2.006694</td>\n",
       "      <td>0.52</td>\n",
       "      <td>2.654296</td>\n",
       "    </tr>\n",
       "    <tr>\n",
       "      <th>3</th>\n",
       "      <td>1.384559</td>\n",
       "      <td>1.764717</td>\n",
       "      <td>2.006694</td>\n",
       "      <td>0.53</td>\n",
       "      <td>2.654296</td>\n",
       "    </tr>\n",
       "    <tr>\n",
       "      <th>4</th>\n",
       "      <td>1.384559</td>\n",
       "      <td>1.764717</td>\n",
       "      <td>2.006694</td>\n",
       "      <td>0.54</td>\n",
       "      <td>2.654296</td>\n",
       "    </tr>\n",
       "  </tbody>\n",
       "</table>\n",
       "</div>"
      ],
      "text/plain": [
       "    Price_1   Price_2   Price_3  Price_4   Price_5\n",
       "0  1.384559  1.764717  2.006694     0.50  2.654296\n",
       "1  1.384559  1.764717  2.006694     0.51  2.654296\n",
       "2  1.384559  1.764717  2.006694     0.52  2.654296\n",
       "3  1.384559  1.764717  2.006694     0.53  2.654296\n",
       "4  1.384559  1.764717  2.006694     0.54  2.654296"
      ]
     },
     "execution_count": 61,
     "metadata": {},
     "output_type": "execute_result"
    }
   ],
   "source": [
    "df_brand5_cross_brand4.head()"
   ]
  },
  {
   "cell_type": "code",
   "execution_count": 62,
   "id": "8c41f5a4",
   "metadata": {},
   "outputs": [],
   "source": [
    "predict_brand5_cross_brand4 = model_brand_choice.predict_proba(df_brand5_cross_brand4)"
   ]
  },
  {
   "cell_type": "code",
   "execution_count": 63,
   "id": "28f7fdfc",
   "metadata": {},
   "outputs": [],
   "source": [
    "pr_brand_4 = predict_brand5_cross_brand4[:][:, 3]"
   ]
  },
  {
   "cell_type": "code",
   "execution_count": 64,
   "id": "acc0e61c",
   "metadata": {},
   "outputs": [
    {
     "data": {
      "text/plain": [
       "-1.0879059089650402"
      ]
     },
     "execution_count": 64,
     "metadata": {},
     "output_type": "execute_result"
    }
   ],
   "source": [
    "beta5"
   ]
  },
  {
   "cell_type": "code",
   "execution_count": 65,
   "id": "b44f0c59",
   "metadata": {},
   "outputs": [],
   "source": [
    "brand5_cross_brand4_price_elasticity = -beta5 * price_range * pr_brand_4"
   ]
  },
  {
   "cell_type": "code",
   "execution_count": 67,
   "id": "abdbb50c",
   "metadata": {},
   "outputs": [
    {
     "data": {
      "text/html": [
       "<div>\n",
       "<style scoped>\n",
       "    .dataframe tbody tr th:only-of-type {\n",
       "        vertical-align: middle;\n",
       "    }\n",
       "\n",
       "    .dataframe tbody tr th {\n",
       "        vertical-align: top;\n",
       "    }\n",
       "\n",
       "    .dataframe thead th {\n",
       "        text-align: right;\n",
       "    }\n",
       "</style>\n",
       "<table border=\"1\" class=\"dataframe\">\n",
       "  <thead>\n",
       "    <tr style=\"text-align: right;\">\n",
       "      <th></th>\n",
       "      <th>Brand_5</th>\n",
       "      <th>Brand_5_Cross_Brand_4</th>\n",
       "    </tr>\n",
       "  </thead>\n",
       "  <tbody>\n",
       "    <tr>\n",
       "      <th>0.50</th>\n",
       "      <td>-0.048961</td>\n",
       "      <td>0.331373</td>\n",
       "    </tr>\n",
       "    <tr>\n",
       "      <th>0.51</th>\n",
       "      <td>-0.050519</td>\n",
       "      <td>0.336639</td>\n",
       "    </tr>\n",
       "    <tr>\n",
       "      <th>0.52</th>\n",
       "      <td>-0.052107</td>\n",
       "      <td>0.341849</td>\n",
       "    </tr>\n",
       "    <tr>\n",
       "      <th>0.53</th>\n",
       "      <td>-0.053724</td>\n",
       "      <td>0.347001</td>\n",
       "    </tr>\n",
       "    <tr>\n",
       "      <th>0.54</th>\n",
       "      <td>-0.055371</td>\n",
       "      <td>0.352095</td>\n",
       "    </tr>\n",
       "    <tr>\n",
       "      <th>...</th>\n",
       "      <td>...</td>\n",
       "      <td>...</td>\n",
       "    </tr>\n",
       "    <tr>\n",
       "      <th>2.95</th>\n",
       "      <td>-2.386206</td>\n",
       "      <td>0.273553</td>\n",
       "    </tr>\n",
       "    <tr>\n",
       "      <th>2.96</th>\n",
       "      <td>-2.403327</td>\n",
       "      <td>0.271043</td>\n",
       "    </tr>\n",
       "    <tr>\n",
       "      <th>2.97</th>\n",
       "      <td>-2.420446</td>\n",
       "      <td>0.268541</td>\n",
       "    </tr>\n",
       "    <tr>\n",
       "      <th>2.98</th>\n",
       "      <td>-2.437565</td>\n",
       "      <td>0.266049</td>\n",
       "    </tr>\n",
       "    <tr>\n",
       "      <th>2.99</th>\n",
       "      <td>-2.454680</td>\n",
       "      <td>0.263566</td>\n",
       "    </tr>\n",
       "  </tbody>\n",
       "</table>\n",
       "<p>250 rows × 2 columns</p>\n",
       "</div>"
      ],
      "text/plain": [
       "       Brand_5  Brand_5_Cross_Brand_4\n",
       "0.50 -0.048961               0.331373\n",
       "0.51 -0.050519               0.336639\n",
       "0.52 -0.052107               0.341849\n",
       "0.53 -0.053724               0.347001\n",
       "0.54 -0.055371               0.352095\n",
       "...        ...                    ...\n",
       "2.95 -2.386206               0.273553\n",
       "2.96 -2.403327               0.271043\n",
       "2.97 -2.420446               0.268541\n",
       "2.98 -2.437565               0.266049\n",
       "2.99 -2.454680               0.263566\n",
       "\n",
       "[250 rows x 2 columns]"
      ]
     },
     "execution_count": 67,
     "metadata": {},
     "output_type": "execute_result"
    }
   ],
   "source": [
    "df_brand_pe['Brand_5_Cross_Brand_4'] = brand5_cross_brand4_price_elasticity\n",
    "df_brand_pe"
   ]
  },
  {
   "cell_type": "code",
   "execution_count": 69,
   "id": "55ac52d4",
   "metadata": {},
   "outputs": [
    {
     "data": {
      "image/png": "[encoded data removed]",
      "text/plain": [
       "<Figure size 720x432 with 1 Axes>"
      ]
     },
     "metadata": {},
     "output_type": "display_data"
    }
   ],
   "source": [
    "df_brand_pe['Brand_5_Cross_Brand_4'].plot(figsize=(10,6))\n",
    "plt.xlabel('Price 5')\n",
    "plt.ylabel('Elasticity')\n",
    "plt.title('Cross Price Elasticity of Brand 5 wrt to Brand 4');"
   ]
  },
  {
   "cell_type": "code",
   "execution_count": null,
   "id": "aa833fac",
   "metadata": {},
   "outputs": [],
   "source": []
  }
 ],
 "metadata": {
  "kernelspec": {
   "display_name": "Python 3 (ipykernel)",
   "language": "python",
   "name": "python3"
  },
  "language_info": {
   "codemirror_mode": {
    "name": "ipython",
    "version": 3
   },
   "file_extension": ".py",
   "mimetype": "text/x-python",
   "name": "python",
   "nbconvert_exporter": "python",
   "pygments_lexer": "ipython3",
   "version": "3.10.4"
  }
 },
 "nbformat": 4,
 "nbformat_minor": 5
}
